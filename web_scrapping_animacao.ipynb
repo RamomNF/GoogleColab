{
  "nbformat": 4,
  "nbformat_minor": 0,
  "metadata": {
    "colab": {
      "name": "web_scrapping_animacao.ipynb",
      "provenance": [],
      "collapsed_sections": [],
      "authorship_tag": "ABX9TyMkwQqDsFhDfS0+X/2TRH5m",
      "include_colab_link": true
    },
    "kernelspec": {
      "name": "python3",
      "display_name": "Python 3"
    }
  },
  "cells": [
    {
      "cell_type": "markdown",
      "metadata": {
        "id": "view-in-github",
        "colab_type": "text"
      },
      "source": [
        "<a href=\"https://colab.research.google.com/github/RamomNF/GoogleColab/blob/master/web_scrapping_animacao.ipynb\" target=\"_parent\"><img src=\"https://colab.research.google.com/assets/colab-badge.svg\" alt=\"Open In Colab\"/></a>"
      ]
    },
    {
      "cell_type": "code",
      "metadata": {
        "id": "cmRKoUZ6V1Uq",
        "colab_type": "code",
        "colab": {}
      },
      "source": [
        "#Queria por a prova meus conhecimentos de séries temporais, para isso resolvi fazer um web scrapping e pegar\n",
        "#alguns dados cuja análise não tinha gabarito disponível.\n",
        "#Análise da Série Temporal:\n",
        "#Publicação no Medium: https://medium.com/@ramomnf/evolu%C3%A7%C3%A3o-das-temporadas-de-anime-ao-longo-do-tempo-1c2c3eea205b"
      ],
      "execution_count": 5,
      "outputs": []
    },
    {
      "cell_type": "code",
      "metadata": {
        "id": "VRryts2uWNmK",
        "colab_type": "code",
        "colab": {}
      },
      "source": [
        "import numpy as np\n",
        "import pandas as pd\n",
        "import re\n",
        "import sys\n",
        "import time\n",
        "import urllib.request\n",
        "\n",
        "from bs4 import BeautifulSoup"
      ],
      "execution_count": 11,
      "outputs": []
    },
    {
      "cell_type": "code",
      "metadata": {
        "id": "WgogsqAhW6ys",
        "colab_type": "code",
        "colab": {}
      },
      "source": [
        "####### Definição de funções"
      ],
      "execution_count": null,
      "outputs": []
    },
    {
      "cell_type": "code",
      "metadata": {
        "id": "m8A9jJAKWpPS",
        "colab_type": "code",
        "colab": {}
      },
      "source": [
        "def get_soup(link):\n",
        "    try:\n",
        "        req       = urllib.request.Request(link, headers={'User-Agent': 'Mozilla/5.0'})\n",
        "        response  = urllib.request.urlopen(req)\n",
        "        the_page  = response.read()\n",
        "        soup      = BeautifulSoup(the_page, 'html.parser')\n",
        "\n",
        "        return soup\n",
        "\n",
        "    except Exception as ex:\n",
        "        print(\"Exception \", ex)\n",
        "        return None"
      ],
      "execution_count": 7,
      "outputs": []
    },
    {
      "cell_type": "code",
      "metadata": {
        "id": "FYDGJmEFWqqC",
        "colab_type": "code",
        "colab": {}
      },
      "source": [
        "def get_ratings(season = '', year =''):\n",
        "    base_link = 'https://www.anime-planet.com/anime/all?include_types=6&sort=average&order=desc&bvm=list&season='\n",
        "    page = base_link+season+\"-\"+str(year)\n",
        "    print(page)\n",
        "    names   = list()\n",
        "\n",
        "    try:\n",
        "        soup    = get_soup(page)\n",
        "    except:\n",
        "        return\n",
        "\n",
        "\n",
        "    anime = soup.find_all('a',  {'class':'tooltip'})\n",
        "    \n",
        "    names = []\n",
        "    stars = []\n",
        "    \n",
        "    for t in anime:\n",
        "        try:\n",
        "            stars.append( BeautifulSoup(t['title']).find('div', {'class':'ttRating'}).getText() )        \n",
        "            names.append( BeautifulSoup(t['title']).find('h5', {'class':'theme-font'}).getText() )\n",
        "        except:\n",
        "            pass\n",
        "\n",
        "    names = names[0:len(stars)]    \n",
        "\n",
        "\n",
        "    season_df = pd.DataFrame( {'names' : names, 'ratings' : stars} )\n",
        "    season_df['season'] = season\n",
        "    season_df['year']   = str(year)\n",
        "\n",
        "    return season_df"
      ],
      "execution_count": 8,
      "outputs": []
    },
    {
      "cell_type": "code",
      "metadata": {
        "id": "_BhGkd12WsbC",
        "colab_type": "code",
        "colab": {}
      },
      "source": [
        "def get_database(from_year = 1995, to_year = 2021):\n",
        "    season_list = list()\n",
        "    for year in range(from_year, to_year):    \n",
        "        for season in ['winter', 'spring', 'summer', 'fall']:            \n",
        "            season_list.append( get_ratings(season, str(year)) )\n",
        "\n",
        "    season_df = pd.concat(season_list)\n",
        "\n",
        "    return season_df"
      ],
      "execution_count": 12,
      "outputs": []
    },
    {
      "cell_type": "code",
      "metadata": {
        "id": "c4T76RAjW-bT",
        "colab_type": "code",
        "colab": {}
      },
      "source": [
        "####### Execução do webscrapping"
      ],
      "execution_count": null,
      "outputs": []
    },
    {
      "cell_type": "code",
      "metadata": {
        "id": "jn8ZYPSEWwhS",
        "colab_type": "code",
        "colab": {
          "base_uri": "https://localhost:8080/",
          "height": 1000
        },
        "outputId": "478e031b-881f-4176-d86b-ff0618303611"
      },
      "source": [
        "season_df = get_database()"
      ],
      "execution_count": 10,
      "outputs": [
        {
          "output_type": "stream",
          "text": [
            "https://www.anime-planet.com/anime/all?include_types=6&sort=average&order=desc&bvm=list&season=spring-1995\n",
            "https://www.anime-planet.com/anime/all?include_types=6&sort=average&order=desc&bvm=list&season=summer-1995\n",
            "https://www.anime-planet.com/anime/all?include_types=6&sort=average&order=desc&bvm=list&season=fall-1995\n",
            "https://www.anime-planet.com/anime/all?include_types=6&sort=average&order=desc&bvm=list&season=winter-1995\n",
            "https://www.anime-planet.com/anime/all?include_types=6&sort=average&order=desc&bvm=list&season=spring-1996\n",
            "https://www.anime-planet.com/anime/all?include_types=6&sort=average&order=desc&bvm=list&season=summer-1996\n",
            "https://www.anime-planet.com/anime/all?include_types=6&sort=average&order=desc&bvm=list&season=fall-1996\n",
            "https://www.anime-planet.com/anime/all?include_types=6&sort=average&order=desc&bvm=list&season=winter-1996\n",
            "https://www.anime-planet.com/anime/all?include_types=6&sort=average&order=desc&bvm=list&season=spring-1997\n",
            "https://www.anime-planet.com/anime/all?include_types=6&sort=average&order=desc&bvm=list&season=summer-1997\n",
            "https://www.anime-planet.com/anime/all?include_types=6&sort=average&order=desc&bvm=list&season=fall-1997\n",
            "https://www.anime-planet.com/anime/all?include_types=6&sort=average&order=desc&bvm=list&season=winter-1997\n",
            "https://www.anime-planet.com/anime/all?include_types=6&sort=average&order=desc&bvm=list&season=spring-1998\n",
            "https://www.anime-planet.com/anime/all?include_types=6&sort=average&order=desc&bvm=list&season=summer-1998\n",
            "https://www.anime-planet.com/anime/all?include_types=6&sort=average&order=desc&bvm=list&season=fall-1998\n",
            "https://www.anime-planet.com/anime/all?include_types=6&sort=average&order=desc&bvm=list&season=winter-1998\n",
            "https://www.anime-planet.com/anime/all?include_types=6&sort=average&order=desc&bvm=list&season=spring-1999\n",
            "https://www.anime-planet.com/anime/all?include_types=6&sort=average&order=desc&bvm=list&season=summer-1999\n",
            "https://www.anime-planet.com/anime/all?include_types=6&sort=average&order=desc&bvm=list&season=fall-1999\n",
            "https://www.anime-planet.com/anime/all?include_types=6&sort=average&order=desc&bvm=list&season=winter-1999\n",
            "https://www.anime-planet.com/anime/all?include_types=6&sort=average&order=desc&bvm=list&season=spring-2000\n",
            "https://www.anime-planet.com/anime/all?include_types=6&sort=average&order=desc&bvm=list&season=summer-2000\n",
            "https://www.anime-planet.com/anime/all?include_types=6&sort=average&order=desc&bvm=list&season=fall-2000\n",
            "https://www.anime-planet.com/anime/all?include_types=6&sort=average&order=desc&bvm=list&season=winter-2000\n",
            "https://www.anime-planet.com/anime/all?include_types=6&sort=average&order=desc&bvm=list&season=spring-2001\n",
            "https://www.anime-planet.com/anime/all?include_types=6&sort=average&order=desc&bvm=list&season=summer-2001\n",
            "https://www.anime-planet.com/anime/all?include_types=6&sort=average&order=desc&bvm=list&season=fall-2001\n",
            "https://www.anime-planet.com/anime/all?include_types=6&sort=average&order=desc&bvm=list&season=winter-2001\n",
            "https://www.anime-planet.com/anime/all?include_types=6&sort=average&order=desc&bvm=list&season=spring-2002\n",
            "https://www.anime-planet.com/anime/all?include_types=6&sort=average&order=desc&bvm=list&season=summer-2002\n",
            "https://www.anime-planet.com/anime/all?include_types=6&sort=average&order=desc&bvm=list&season=fall-2002\n",
            "https://www.anime-planet.com/anime/all?include_types=6&sort=average&order=desc&bvm=list&season=winter-2002\n",
            "https://www.anime-planet.com/anime/all?include_types=6&sort=average&order=desc&bvm=list&season=spring-2003\n",
            "https://www.anime-planet.com/anime/all?include_types=6&sort=average&order=desc&bvm=list&season=summer-2003\n",
            "https://www.anime-planet.com/anime/all?include_types=6&sort=average&order=desc&bvm=list&season=fall-2003\n",
            "https://www.anime-planet.com/anime/all?include_types=6&sort=average&order=desc&bvm=list&season=winter-2003\n",
            "https://www.anime-planet.com/anime/all?include_types=6&sort=average&order=desc&bvm=list&season=spring-2004\n",
            "https://www.anime-planet.com/anime/all?include_types=6&sort=average&order=desc&bvm=list&season=summer-2004\n",
            "https://www.anime-planet.com/anime/all?include_types=6&sort=average&order=desc&bvm=list&season=fall-2004\n",
            "https://www.anime-planet.com/anime/all?include_types=6&sort=average&order=desc&bvm=list&season=winter-2004\n",
            "https://www.anime-planet.com/anime/all?include_types=6&sort=average&order=desc&bvm=list&season=spring-2005\n",
            "https://www.anime-planet.com/anime/all?include_types=6&sort=average&order=desc&bvm=list&season=summer-2005\n",
            "https://www.anime-planet.com/anime/all?include_types=6&sort=average&order=desc&bvm=list&season=fall-2005\n",
            "https://www.anime-planet.com/anime/all?include_types=6&sort=average&order=desc&bvm=list&season=winter-2005\n",
            "https://www.anime-planet.com/anime/all?include_types=6&sort=average&order=desc&bvm=list&season=spring-2006\n",
            "https://www.anime-planet.com/anime/all?include_types=6&sort=average&order=desc&bvm=list&season=summer-2006\n",
            "https://www.anime-planet.com/anime/all?include_types=6&sort=average&order=desc&bvm=list&season=fall-2006\n",
            "https://www.anime-planet.com/anime/all?include_types=6&sort=average&order=desc&bvm=list&season=winter-2006\n",
            "https://www.anime-planet.com/anime/all?include_types=6&sort=average&order=desc&bvm=list&season=spring-2007\n",
            "https://www.anime-planet.com/anime/all?include_types=6&sort=average&order=desc&bvm=list&season=summer-2007\n",
            "https://www.anime-planet.com/anime/all?include_types=6&sort=average&order=desc&bvm=list&season=fall-2007\n",
            "https://www.anime-planet.com/anime/all?include_types=6&sort=average&order=desc&bvm=list&season=winter-2007\n",
            "https://www.anime-planet.com/anime/all?include_types=6&sort=average&order=desc&bvm=list&season=spring-2008\n",
            "https://www.anime-planet.com/anime/all?include_types=6&sort=average&order=desc&bvm=list&season=summer-2008\n",
            "https://www.anime-planet.com/anime/all?include_types=6&sort=average&order=desc&bvm=list&season=fall-2008\n",
            "https://www.anime-planet.com/anime/all?include_types=6&sort=average&order=desc&bvm=list&season=winter-2008\n",
            "https://www.anime-planet.com/anime/all?include_types=6&sort=average&order=desc&bvm=list&season=spring-2009\n",
            "https://www.anime-planet.com/anime/all?include_types=6&sort=average&order=desc&bvm=list&season=summer-2009\n",
            "https://www.anime-planet.com/anime/all?include_types=6&sort=average&order=desc&bvm=list&season=fall-2009\n",
            "https://www.anime-planet.com/anime/all?include_types=6&sort=average&order=desc&bvm=list&season=winter-2009\n",
            "https://www.anime-planet.com/anime/all?include_types=6&sort=average&order=desc&bvm=list&season=spring-2010\n",
            "https://www.anime-planet.com/anime/all?include_types=6&sort=average&order=desc&bvm=list&season=summer-2010\n",
            "https://www.anime-planet.com/anime/all?include_types=6&sort=average&order=desc&bvm=list&season=fall-2010\n",
            "https://www.anime-planet.com/anime/all?include_types=6&sort=average&order=desc&bvm=list&season=winter-2010\n",
            "https://www.anime-planet.com/anime/all?include_types=6&sort=average&order=desc&bvm=list&season=spring-2011\n",
            "https://www.anime-planet.com/anime/all?include_types=6&sort=average&order=desc&bvm=list&season=summer-2011\n",
            "https://www.anime-planet.com/anime/all?include_types=6&sort=average&order=desc&bvm=list&season=fall-2011\n",
            "https://www.anime-planet.com/anime/all?include_types=6&sort=average&order=desc&bvm=list&season=winter-2011\n",
            "https://www.anime-planet.com/anime/all?include_types=6&sort=average&order=desc&bvm=list&season=spring-2012\n",
            "https://www.anime-planet.com/anime/all?include_types=6&sort=average&order=desc&bvm=list&season=summer-2012\n",
            "https://www.anime-planet.com/anime/all?include_types=6&sort=average&order=desc&bvm=list&season=fall-2012\n",
            "https://www.anime-planet.com/anime/all?include_types=6&sort=average&order=desc&bvm=list&season=winter-2012\n",
            "https://www.anime-planet.com/anime/all?include_types=6&sort=average&order=desc&bvm=list&season=spring-2013\n",
            "https://www.anime-planet.com/anime/all?include_types=6&sort=average&order=desc&bvm=list&season=summer-2013\n",
            "https://www.anime-planet.com/anime/all?include_types=6&sort=average&order=desc&bvm=list&season=fall-2013\n",
            "https://www.anime-planet.com/anime/all?include_types=6&sort=average&order=desc&bvm=list&season=winter-2013\n",
            "https://www.anime-planet.com/anime/all?include_types=6&sort=average&order=desc&bvm=list&season=spring-2014\n",
            "https://www.anime-planet.com/anime/all?include_types=6&sort=average&order=desc&bvm=list&season=summer-2014\n",
            "https://www.anime-planet.com/anime/all?include_types=6&sort=average&order=desc&bvm=list&season=fall-2014\n",
            "https://www.anime-planet.com/anime/all?include_types=6&sort=average&order=desc&bvm=list&season=winter-2014\n",
            "https://www.anime-planet.com/anime/all?include_types=6&sort=average&order=desc&bvm=list&season=spring-2015\n",
            "https://www.anime-planet.com/anime/all?include_types=6&sort=average&order=desc&bvm=list&season=summer-2015\n",
            "https://www.anime-planet.com/anime/all?include_types=6&sort=average&order=desc&bvm=list&season=fall-2015\n",
            "https://www.anime-planet.com/anime/all?include_types=6&sort=average&order=desc&bvm=list&season=winter-2015\n",
            "https://www.anime-planet.com/anime/all?include_types=6&sort=average&order=desc&bvm=list&season=spring-2016\n",
            "https://www.anime-planet.com/anime/all?include_types=6&sort=average&order=desc&bvm=list&season=summer-2016\n",
            "https://www.anime-planet.com/anime/all?include_types=6&sort=average&order=desc&bvm=list&season=fall-2016\n",
            "https://www.anime-planet.com/anime/all?include_types=6&sort=average&order=desc&bvm=list&season=winter-2016\n",
            "https://www.anime-planet.com/anime/all?include_types=6&sort=average&order=desc&bvm=list&season=spring-2017\n",
            "https://www.anime-planet.com/anime/all?include_types=6&sort=average&order=desc&bvm=list&season=summer-2017\n",
            "https://www.anime-planet.com/anime/all?include_types=6&sort=average&order=desc&bvm=list&season=fall-2017\n",
            "https://www.anime-planet.com/anime/all?include_types=6&sort=average&order=desc&bvm=list&season=winter-2017\n",
            "https://www.anime-planet.com/anime/all?include_types=6&sort=average&order=desc&bvm=list&season=spring-2018\n",
            "https://www.anime-planet.com/anime/all?include_types=6&sort=average&order=desc&bvm=list&season=summer-2018\n",
            "https://www.anime-planet.com/anime/all?include_types=6&sort=average&order=desc&bvm=list&season=fall-2018\n",
            "https://www.anime-planet.com/anime/all?include_types=6&sort=average&order=desc&bvm=list&season=winter-2018\n",
            "https://www.anime-planet.com/anime/all?include_types=6&sort=average&order=desc&bvm=list&season=spring-2019\n",
            "https://www.anime-planet.com/anime/all?include_types=6&sort=average&order=desc&bvm=list&season=summer-2019\n",
            "https://www.anime-planet.com/anime/all?include_types=6&sort=average&order=desc&bvm=list&season=fall-2019\n",
            "https://www.anime-planet.com/anime/all?include_types=6&sort=average&order=desc&bvm=list&season=winter-2019\n",
            "https://www.anime-planet.com/anime/all?include_types=6&sort=average&order=desc&bvm=list&season=spring-2020\n",
            "https://www.anime-planet.com/anime/all?include_types=6&sort=average&order=desc&bvm=list&season=summer-2020\n",
            "https://www.anime-planet.com/anime/all?include_types=6&sort=average&order=desc&bvm=list&season=fall-2020\n",
            "https://www.anime-planet.com/anime/all?include_types=6&sort=average&order=desc&bvm=list&season=winter-2020\n"
          ],
          "name": "stdout"
        }
      ]
    },
    {
      "cell_type": "code",
      "metadata": {
        "id": "ENOcSCxLWyCy",
        "colab_type": "code",
        "colab": {}
      },
      "source": [
        "season_df.to_csv(\"data_seasons.csv\", sep=\"\\t\", index=False)"
      ],
      "execution_count": null,
      "outputs": []
    }
  ]
}