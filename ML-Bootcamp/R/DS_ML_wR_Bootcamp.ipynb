{
  "nbformat": 4,
  "nbformat_minor": 0,
  "metadata": {
    "colab": {
      "name": "DS_ML_wR_Bootcamp.ipynb",
      "provenance": [],
      "authorship_tag": "ABX9TyMN7Hzjv5Wb93tEPHq814p+",
      "include_colab_link": true
    },
    "kernelspec": {
      "name": "ir",
      "display_name": "R"
    }
  },
  "cells": [
    {
      "cell_type": "markdown",
      "metadata": {
        "id": "view-in-github",
        "colab_type": "text"
      },
      "source": [
        "<a href=\"https://colab.research.google.com/github/RamomNF/GoogleColab/blob/master/ML-Bootcamp/R/DS_ML_wR_Bootcamp.ipynb\" target=\"_parent\"><img src=\"https://colab.research.google.com/assets/colab-badge.svg\" alt=\"Open In Colab\"/></a>"
      ]
    },
    {
      "cell_type": "code",
      "metadata": {
        "id": "abkGH2E1tMg7"
      },
      "source": [
        "#Data Science and Machine Learning Bootcamp with R\n",
        "#https://udemy.com/course/data-science-and-machine-learning-bootcamp-with-r/"
      ],
      "execution_count": 1,
      "outputs": []
    },
    {
      "cell_type": "code",
      "metadata": {
        "id": "P_3r4pPZtdhV"
      },
      "source": [
        "#####################################################################\n",
        "#                                                                   #\n",
        "###                                                               ###\n",
        "#####                 Logistic Regression Project               #####\n",
        "###                                                               ###\n",
        "#                                                                   #\n",
        "#####################################################################"
      ],
      "execution_count": null,
      "outputs": []
    }
  ]
}