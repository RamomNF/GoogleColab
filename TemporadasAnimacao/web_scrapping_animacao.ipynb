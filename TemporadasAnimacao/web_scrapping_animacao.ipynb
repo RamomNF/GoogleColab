{
  "nbformat": 4,
  "nbformat_minor": 0,
  "metadata": {
    "colab": {
      "name": "web_scrapping_animacao.ipynb",
      "provenance": [],
      "collapsed_sections": [],
      "authorship_tag": "ABX9TyPu0Ok4x+Hsh110H6a+kolJ",
      "include_colab_link": true
    },
    "kernelspec": {
      "name": "python3",
      "display_name": "Python 3"
    }
  },
  "cells": [
    {
      "cell_type": "markdown",
      "metadata": {
        "id": "view-in-github",
        "colab_type": "text"
      },
      "source": [
        "<a href=\"https://colab.research.google.com/github/RamomNF/GoogleColab/blob/master/TemporadasAnimacao/web_scrapping_animacao.ipynb\" target=\"_parent\"><img src=\"https://colab.research.google.com/assets/colab-badge.svg\" alt=\"Open In Colab\"/></a>"
      ]
    },
    {
      "cell_type": "code",
      "metadata": {
        "id": "cmRKoUZ6V1Uq",
        "colab_type": "code",
        "colab": {}
      },
      "source": [
        "#Queria por a prova meus conhecimentos de séries temporais, para isso resolvi fazer um web scrapping e pegar\n",
        "#alguns dados cuja análise não tinha gabarito disponível.\n",
        "#Análise da Série Temporal: https://github.com/RamomNF/GoogleColab/blob/master/TemporadasAnimacao/series_temporais_animacao.ipynb\n",
        "#Publicação no Medium: https://medium.com/@ramomnf/evolu%C3%A7%C3%A3o-das-temporadas-de-anime-ao-longo-do-tempo-1c2c3eea205b"
      ],
      "execution_count": null,
      "outputs": []
    },
    {
      "cell_type": "code",
      "metadata": {
        "id": "VRryts2uWNmK",
        "colab_type": "code",
        "colab": {}
      },
      "source": [
        "import numpy as np\n",
        "import pandas as pd\n",
        "import re\n",
        "import sys\n",
        "import time\n",
        "import urllib.request\n",
        "\n",
        "from bs4 import BeautifulSoup"
      ],
      "execution_count": null,
      "outputs": []
    },
    {
      "cell_type": "code",
      "metadata": {
        "id": "WgogsqAhW6ys",
        "colab_type": "code",
        "colab": {}
      },
      "source": [
        "####### Definição de funções"
      ],
      "execution_count": null,
      "outputs": []
    },
    {
      "cell_type": "code",
      "metadata": {
        "id": "m8A9jJAKWpPS",
        "colab_type": "code",
        "colab": {}
      },
      "source": [
        "def get_soup(link):\n",
        "    try:\n",
        "        req       = urllib.request.Request(link, headers={'User-Agent': 'Mozilla/5.0'})\n",
        "        response  = urllib.request.urlopen(req)\n",
        "        the_page  = response.read()\n",
        "        soup      = BeautifulSoup(the_page, 'html.parser')\n",
        "\n",
        "        return soup\n",
        "\n",
        "    except Exception as ex:\n",
        "        print(\"Exception \", ex)\n",
        "        return None"
      ],
      "execution_count": null,
      "outputs": []
    },
    {
      "cell_type": "code",
      "metadata": {
        "id": "FYDGJmEFWqqC",
        "colab_type": "code",
        "colab": {}
      },
      "source": [
        "def get_ratings(season = '', year =''):\n",
        "    base_link = 'https://www.anime-planet.com/anime/all?include_types=6&sort=average&order=desc&bvm=list&season='\n",
        "    page = base_link+season+\"-\"+str(year)\n",
        "    print(page)\n",
        "    names   = list()\n",
        "\n",
        "    try:\n",
        "        soup    = get_soup(page)\n",
        "    except:\n",
        "        return\n",
        "\n",
        "\n",
        "    anime = soup.find_all('a',  {'class':'tooltip'})\n",
        "    \n",
        "    names = []\n",
        "    stars = []\n",
        "    \n",
        "    for t in anime:\n",
        "        try:\n",
        "            stars.append( BeautifulSoup(t['title']).find('div', {'class':'ttRating'}).getText() )        \n",
        "            names.append( BeautifulSoup(t['title']).find('h5', {'class':'theme-font'}).getText() )\n",
        "        except:\n",
        "            pass\n",
        "\n",
        "    names = names[0:len(stars)]    \n",
        "\n",
        "\n",
        "    season_df = pd.DataFrame( {'names' : names, 'ratings' : stars} )\n",
        "    season_df['season'] = season\n",
        "    season_df['year']   = str(year)\n",
        "\n",
        "    return season_df"
      ],
      "execution_count": null,
      "outputs": []
    },
    {
      "cell_type": "code",
      "metadata": {
        "id": "_BhGkd12WsbC",
        "colab_type": "code",
        "colab": {}
      },
      "source": [
        "def get_database(from_year = 1995, to_year = 2021):\n",
        "    season_list = list()\n",
        "    for year in range(from_year, to_year):    \n",
        "        for season in ['winter', 'spring', 'summer', 'fall']:            \n",
        "            season_list.append( get_ratings(season, str(year)) )\n",
        "\n",
        "    season_df = pd.concat(season_list)\n",
        "\n",
        "    return season_df"
      ],
      "execution_count": null,
      "outputs": []
    },
    {
      "cell_type": "code",
      "metadata": {
        "id": "c4T76RAjW-bT",
        "colab_type": "code",
        "colab": {}
      },
      "source": [
        "####### Execução do webscrapping"
      ],
      "execution_count": null,
      "outputs": []
    },
    {
      "cell_type": "code",
      "metadata": {
        "id": "jn8ZYPSEWwhS",
        "colab_type": "code",
        "colab": {
          "base_uri": "https://localhost:8080/",
          "height": 1000
        },
        "outputId": "478e031b-881f-4176-d86b-ff0618303611"
      },
      "source": [
        "season_df = get_database()"
      ],
      "execution_count": null,
      "outputs": [
        {
          "output_type": "stream",
          "text": [
            "https://www.anime-planet.com/anime/all?include_types=6&sort=average&order=desc&bvm=list&season=spring-1995\n",
            "https://www.anime-planet.com/anime/all?include_types=6&sort=average&order=desc&bvm=list&season=summer-1995\n",
            "https://www.anime-planet.com/anime/all?include_types=6&sort=average&order=desc&bvm=list&season=fall-1995\n",
            "https://www.anime-planet.com/anime/all?include_types=6&sort=average&order=desc&bvm=list&season=winter-1995\n",
            "https://www.anime-planet.com/anime/all?include_types=6&sort=average&order=desc&bvm=list&season=spring-1996\n",
            "https://www.anime-planet.com/anime/all?include_types=6&sort=average&order=desc&bvm=list&season=summer-1996\n",
            "https://www.anime-planet.com/anime/all?include_types=6&sort=average&order=desc&bvm=list&season=fall-1996\n",
            "https://www.anime-planet.com/anime/all?include_types=6&sort=average&order=desc&bvm=list&season=winter-1996\n",
            "https://www.anime-planet.com/anime/all?include_types=6&sort=average&order=desc&bvm=list&season=spring-1997\n",
            "https://www.anime-planet.com/anime/all?include_types=6&sort=average&order=desc&bvm=list&season=summer-1997\n",
            "https://www.anime-planet.com/anime/all?include_types=6&sort=average&order=desc&bvm=list&season=fall-1997\n",
            "https://www.anime-planet.com/anime/all?include_types=6&sort=average&order=desc&bvm=list&season=winter-1997\n",
            "https://www.anime-planet.com/anime/all?include_types=6&sort=average&order=desc&bvm=list&season=spring-1998\n",
            "https://www.anime-planet.com/anime/all?include_types=6&sort=average&order=desc&bvm=list&season=summer-1998\n",
            "https://www.anime-planet.com/anime/all?include_types=6&sort=average&order=desc&bvm=list&season=fall-1998\n",
            "https://www.anime-planet.com/anime/all?include_types=6&sort=average&order=desc&bvm=list&season=winter-1998\n",
            "https://www.anime-planet.com/anime/all?include_types=6&sort=average&order=desc&bvm=list&season=spring-1999\n",
            "https://www.anime-planet.com/anime/all?include_types=6&sort=average&order=desc&bvm=list&season=summer-1999\n",
            "https://www.anime-planet.com/anime/all?include_types=6&sort=average&order=desc&bvm=list&season=fall-1999\n",
            "https://www.anime-planet.com/anime/all?include_types=6&sort=average&order=desc&bvm=list&season=winter-1999\n",
            "https://www.anime-planet.com/anime/all?include_types=6&sort=average&order=desc&bvm=list&season=spring-2000\n",
            "https://www.anime-planet.com/anime/all?include_types=6&sort=average&order=desc&bvm=list&season=summer-2000\n",
            "https://www.anime-planet.com/anime/all?include_types=6&sort=average&order=desc&bvm=list&season=fall-2000\n",
            "https://www.anime-planet.com/anime/all?include_types=6&sort=average&order=desc&bvm=list&season=winter-2000\n",
            "https://www.anime-planet.com/anime/all?include_types=6&sort=average&order=desc&bvm=list&season=spring-2001\n",
            "https://www.anime-planet.com/anime/all?include_types=6&sort=average&order=desc&bvm=list&season=summer-2001\n",
            "https://www.anime-planet.com/anime/all?include_types=6&sort=average&order=desc&bvm=list&season=fall-2001\n",
            "https://www.anime-planet.com/anime/all?include_types=6&sort=average&order=desc&bvm=list&season=winter-2001\n",
            "https://www.anime-planet.com/anime/all?include_types=6&sort=average&order=desc&bvm=list&season=spring-2002\n",
            "https://www.anime-planet.com/anime/all?include_types=6&sort=average&order=desc&bvm=list&season=summer-2002\n",
            "https://www.anime-planet.com/anime/all?include_types=6&sort=average&order=desc&bvm=list&season=fall-2002\n",
            "https://www.anime-planet.com/anime/all?include_types=6&sort=average&order=desc&bvm=list&season=winter-2002\n",
            "https://www.anime-planet.com/anime/all?include_types=6&sort=average&order=desc&bvm=list&season=spring-2003\n",
            "https://www.anime-planet.com/anime/all?include_types=6&sort=average&order=desc&bvm=list&season=summer-2003\n",
            "https://www.anime-planet.com/anime/all?include_types=6&sort=average&order=desc&bvm=list&season=fall-2003\n",
            "https://www.anime-planet.com/anime/all?include_types=6&sort=average&order=desc&bvm=list&season=winter-2003\n",
            "https://www.anime-planet.com/anime/all?include_types=6&sort=average&order=desc&bvm=list&season=spring-2004\n",
            "https://www.anime-planet.com/anime/all?include_types=6&sort=average&order=desc&bvm=list&season=summer-2004\n",
            "https://www.anime-planet.com/anime/all?include_types=6&sort=average&order=desc&bvm=list&season=fall-2004\n",
            "https://www.anime-planet.com/anime/all?include_types=6&sort=average&order=desc&bvm=list&season=winter-2004\n",
            "https://www.anime-planet.com/anime/all?include_types=6&sort=average&order=desc&bvm=list&season=spring-2005\n",
            "https://www.anime-planet.com/anime/all?include_types=6&sort=average&order=desc&bvm=list&season=summer-2005\n",
            "https://www.anime-planet.com/anime/all?include_types=6&sort=average&order=desc&bvm=list&season=fall-2005\n",
            "https://www.anime-planet.com/anime/all?include_types=6&sort=average&order=desc&bvm=list&season=winter-2005\n",
            "https://www.anime-planet.com/anime/all?include_types=6&sort=average&order=desc&bvm=list&season=spring-2006\n",
            "https://www.anime-planet.com/anime/all?include_types=6&sort=average&order=desc&bvm=list&season=summer-2006\n",
            "https://www.anime-planet.com/anime/all?include_types=6&sort=average&order=desc&bvm=list&season=fall-2006\n",
            "https://www.anime-planet.com/anime/all?include_types=6&sort=average&order=desc&bvm=list&season=winter-2006\n",
            "https://www.anime-planet.com/anime/all?include_types=6&sort=average&order=desc&bvm=list&season=spring-2007\n",
            "https://www.anime-planet.com/anime/all?include_types=6&sort=average&order=desc&bvm=list&season=summer-2007\n",
            "https://www.anime-planet.com/anime/all?include_types=6&sort=average&order=desc&bvm=list&season=fall-2007\n",
            "https://www.anime-planet.com/anime/all?include_types=6&sort=average&order=desc&bvm=list&season=winter-2007\n",
            "https://www.anime-planet.com/anime/all?include_types=6&sort=average&order=desc&bvm=list&season=spring-2008\n",
            "https://www.anime-planet.com/anime/all?include_types=6&sort=average&order=desc&bvm=list&season=summer-2008\n",
            "https://www.anime-planet.com/anime/all?include_types=6&sort=average&order=desc&bvm=list&season=fall-2008\n",
            "https://www.anime-planet.com/anime/all?include_types=6&sort=average&order=desc&bvm=list&season=winter-2008\n",
            "https://www.anime-planet.com/anime/all?include_types=6&sort=average&order=desc&bvm=list&season=spring-2009\n",
            "https://www.anime-planet.com/anime/all?include_types=6&sort=average&order=desc&bvm=list&season=summer-2009\n",
            "https://www.anime-planet.com/anime/all?include_types=6&sort=average&order=desc&bvm=list&season=fall-2009\n",
            "https://www.anime-planet.com/anime/all?include_types=6&sort=average&order=desc&bvm=list&season=winter-2009\n",
            "https://www.anime-planet.com/anime/all?include_types=6&sort=average&order=desc&bvm=list&season=spring-2010\n",
            "https://www.anime-planet.com/anime/all?include_types=6&sort=average&order=desc&bvm=list&season=summer-2010\n",
            "https://www.anime-planet.com/anime/all?include_types=6&sort=average&order=desc&bvm=list&season=fall-2010\n",
            "https://www.anime-planet.com/anime/all?include_types=6&sort=average&order=desc&bvm=list&season=winter-2010\n",
            "https://www.anime-planet.com/anime/all?include_types=6&sort=average&order=desc&bvm=list&season=spring-2011\n",
            "https://www.anime-planet.com/anime/all?include_types=6&sort=average&order=desc&bvm=list&season=summer-2011\n",
            "https://www.anime-planet.com/anime/all?include_types=6&sort=average&order=desc&bvm=list&season=fall-2011\n",
            "https://www.anime-planet.com/anime/all?include_types=6&sort=average&order=desc&bvm=list&season=winter-2011\n",
            "https://www.anime-planet.com/anime/all?include_types=6&sort=average&order=desc&bvm=list&season=spring-2012\n",
            "https://www.anime-planet.com/anime/all?include_types=6&sort=average&order=desc&bvm=list&season=summer-2012\n",
            "https://www.anime-planet.com/anime/all?include_types=6&sort=average&order=desc&bvm=list&season=fall-2012\n",
            "https://www.anime-planet.com/anime/all?include_types=6&sort=average&order=desc&bvm=list&season=winter-2012\n",
            "https://www.anime-planet.com/anime/all?include_types=6&sort=average&order=desc&bvm=list&season=spring-2013\n",
            "https://www.anime-planet.com/anime/all?include_types=6&sort=average&order=desc&bvm=list&season=summer-2013\n",
            "https://www.anime-planet.com/anime/all?include_types=6&sort=average&order=desc&bvm=list&season=fall-2013\n",
            "https://www.anime-planet.com/anime/all?include_types=6&sort=average&order=desc&bvm=list&season=winter-2013\n",
            "https://www.anime-planet.com/anime/all?include_types=6&sort=average&order=desc&bvm=list&season=spring-2014\n",
            "https://www.anime-planet.com/anime/all?include_types=6&sort=average&order=desc&bvm=list&season=summer-2014\n",
            "https://www.anime-planet.com/anime/all?include_types=6&sort=average&order=desc&bvm=list&season=fall-2014\n",
            "https://www.anime-planet.com/anime/all?include_types=6&sort=average&order=desc&bvm=list&season=winter-2014\n",
            "https://www.anime-planet.com/anime/all?include_types=6&sort=average&order=desc&bvm=list&season=spring-2015\n",
            "https://www.anime-planet.com/anime/all?include_types=6&sort=average&order=desc&bvm=list&season=summer-2015\n",
            "https://www.anime-planet.com/anime/all?include_types=6&sort=average&order=desc&bvm=list&season=fall-2015\n",
            "https://www.anime-planet.com/anime/all?include_types=6&sort=average&order=desc&bvm=list&season=winter-2015\n",
            "https://www.anime-planet.com/anime/all?include_types=6&sort=average&order=desc&bvm=list&season=spring-2016\n",
            "https://www.anime-planet.com/anime/all?include_types=6&sort=average&order=desc&bvm=list&season=summer-2016\n",
            "https://www.anime-planet.com/anime/all?include_types=6&sort=average&order=desc&bvm=list&season=fall-2016\n",
            "https://www.anime-planet.com/anime/all?include_types=6&sort=average&order=desc&bvm=list&season=winter-2016\n",
            "https://www.anime-planet.com/anime/all?include_types=6&sort=average&order=desc&bvm=list&season=spring-2017\n",
            "https://www.anime-planet.com/anime/all?include_types=6&sort=average&order=desc&bvm=list&season=summer-2017\n",
            "https://www.anime-planet.com/anime/all?include_types=6&sort=average&order=desc&bvm=list&season=fall-2017\n",
            "https://www.anime-planet.com/anime/all?include_types=6&sort=average&order=desc&bvm=list&season=winter-2017\n",
            "https://www.anime-planet.com/anime/all?include_types=6&sort=average&order=desc&bvm=list&season=spring-2018\n",
            "https://www.anime-planet.com/anime/all?include_types=6&sort=average&order=desc&bvm=list&season=summer-2018\n",
            "https://www.anime-planet.com/anime/all?include_types=6&sort=average&order=desc&bvm=list&season=fall-2018\n",
            "https://www.anime-planet.com/anime/all?include_types=6&sort=average&order=desc&bvm=list&season=winter-2018\n",
            "https://www.anime-planet.com/anime/all?include_types=6&sort=average&order=desc&bvm=list&season=spring-2019\n",
            "https://www.anime-planet.com/anime/all?include_types=6&sort=average&order=desc&bvm=list&season=summer-2019\n",
            "https://www.anime-planet.com/anime/all?include_types=6&sort=average&order=desc&bvm=list&season=fall-2019\n",
            "https://www.anime-planet.com/anime/all?include_types=6&sort=average&order=desc&bvm=list&season=winter-2019\n",
            "https://www.anime-planet.com/anime/all?include_types=6&sort=average&order=desc&bvm=list&season=spring-2020\n",
            "https://www.anime-planet.com/anime/all?include_types=6&sort=average&order=desc&bvm=list&season=summer-2020\n",
            "https://www.anime-planet.com/anime/all?include_types=6&sort=average&order=desc&bvm=list&season=fall-2020\n",
            "https://www.anime-planet.com/anime/all?include_types=6&sort=average&order=desc&bvm=list&season=winter-2020\n"
          ],
          "name": "stdout"
        }
      ]
    },
    {
      "cell_type": "code",
      "metadata": {
        "id": "ENOcSCxLWyCy",
        "colab_type": "code",
        "colab": {
          "base_uri": "https://localhost:8080/",
          "height": 204
        },
        "outputId": "38ac57aa-0f72-4727-b758-a8fed705d51b"
      },
      "source": [
        "season_df.info()"
      ],
      "execution_count": null,
      "outputs": [
        {
          "output_type": "stream",
          "text": [
            "<class 'pandas.core.frame.DataFrame'>\n",
            "Int64Index: 2551 entries, 0 to 34\n",
            "Data columns (total 4 columns):\n",
            " #   Column   Non-Null Count  Dtype \n",
            "---  ------   --------------  ----- \n",
            " 0   names    2551 non-null   object\n",
            " 1   ratings  2551 non-null   object\n",
            " 2   season   2551 non-null   object\n",
            " 3   year     2551 non-null   object\n",
            "dtypes: object(4)\n",
            "memory usage: 99.6+ KB\n"
          ],
          "name": "stdout"
        }
      ]
    },
    {
      "cell_type": "code",
      "metadata": {
        "id": "5DNCpQ9hYAhs",
        "colab_type": "code",
        "colab": {
          "base_uri": "https://localhost:8080/",
          "height": 173
        },
        "outputId": "c744fb87-83ce-49fe-b7ab-823dd2e044a4"
      },
      "source": [
        "season_df.describe()"
      ],
      "execution_count": null,
      "outputs": [
        {
          "output_type": "execute_result",
          "data": {
            "text/html": [
              "<div>\n",
              "<style scoped>\n",
              "    .dataframe tbody tr th:only-of-type {\n",
              "        vertical-align: middle;\n",
              "    }\n",
              "\n",
              "    .dataframe tbody tr th {\n",
              "        vertical-align: top;\n",
              "    }\n",
              "\n",
              "    .dataframe thead th {\n",
              "        text-align: right;\n",
              "    }\n",
              "</style>\n",
              "<table border=\"1\" class=\"dataframe\">\n",
              "  <thead>\n",
              "    <tr style=\"text-align: right;\">\n",
              "      <th></th>\n",
              "      <th>names</th>\n",
              "      <th>ratings</th>\n",
              "      <th>season</th>\n",
              "      <th>year</th>\n",
              "    </tr>\n",
              "  </thead>\n",
              "  <tbody>\n",
              "    <tr>\n",
              "      <th>count</th>\n",
              "      <td>2551</td>\n",
              "      <td>2551</td>\n",
              "      <td>2551</td>\n",
              "      <td>2551</td>\n",
              "    </tr>\n",
              "    <tr>\n",
              "      <th>unique</th>\n",
              "      <td>2550</td>\n",
              "      <td>36</td>\n",
              "      <td>4</td>\n",
              "      <td>26</td>\n",
              "    </tr>\n",
              "    <tr>\n",
              "      <th>top</th>\n",
              "      <td>Lalala Lala-chan</td>\n",
              "      <td>3.8</td>\n",
              "      <td>spring</td>\n",
              "      <td>2014</td>\n",
              "    </tr>\n",
              "    <tr>\n",
              "      <th>freq</th>\n",
              "      <td>2</td>\n",
              "      <td>161</td>\n",
              "      <td>722</td>\n",
              "      <td>140</td>\n",
              "    </tr>\n",
              "  </tbody>\n",
              "</table>\n",
              "</div>"
            ],
            "text/plain": [
              "                   names ratings  season  year\n",
              "count               2551    2551    2551  2551\n",
              "unique              2550      36       4    26\n",
              "top     Lalala Lala-chan     3.8  spring  2014\n",
              "freq                   2     161     722   140"
            ]
          },
          "metadata": {
            "tags": []
          },
          "execution_count": 14
        }
      ]
    },
    {
      "cell_type": "code",
      "metadata": {
        "id": "Je6Pm6qVYM4y",
        "colab_type": "code",
        "colab": {
          "base_uri": "https://localhost:8080/",
          "height": 204
        },
        "outputId": "d96fb9cf-df36-4800-fb6e-9d7ae70840e0"
      },
      "source": [
        "season_df.head()"
      ],
      "execution_count": null,
      "outputs": [
        {
          "output_type": "execute_result",
          "data": {
            "text/html": [
              "<div>\n",
              "<style scoped>\n",
              "    .dataframe tbody tr th:only-of-type {\n",
              "        vertical-align: middle;\n",
              "    }\n",
              "\n",
              "    .dataframe tbody tr th {\n",
              "        vertical-align: top;\n",
              "    }\n",
              "\n",
              "    .dataframe thead th {\n",
              "        text-align: right;\n",
              "    }\n",
              "</style>\n",
              "<table border=\"1\" class=\"dataframe\">\n",
              "  <thead>\n",
              "    <tr style=\"text-align: right;\">\n",
              "      <th></th>\n",
              "      <th>names</th>\n",
              "      <th>ratings</th>\n",
              "      <th>season</th>\n",
              "      <th>year</th>\n",
              "    </tr>\n",
              "  </thead>\n",
              "  <tbody>\n",
              "    <tr>\n",
              "      <th>0</th>\n",
              "      <td>Slayers</td>\n",
              "      <td>4.1</td>\n",
              "      <td>spring</td>\n",
              "      <td>1995</td>\n",
              "    </tr>\n",
              "    <tr>\n",
              "      <th>1</th>\n",
              "      <td>Tenchi Universe</td>\n",
              "      <td>4</td>\n",
              "      <td>spring</td>\n",
              "      <td>1995</td>\n",
              "    </tr>\n",
              "    <tr>\n",
              "      <th>2</th>\n",
              "      <td>H2</td>\n",
              "      <td>3.7</td>\n",
              "      <td>spring</td>\n",
              "      <td>1995</td>\n",
              "    </tr>\n",
              "    <tr>\n",
              "      <th>3</th>\n",
              "      <td>Jurassic Tripper</td>\n",
              "      <td>3.6</td>\n",
              "      <td>spring</td>\n",
              "      <td>1995</td>\n",
              "    </tr>\n",
              "    <tr>\n",
              "      <th>4</th>\n",
              "      <td>Street Fighter II V</td>\n",
              "      <td>3.4</td>\n",
              "      <td>spring</td>\n",
              "      <td>1995</td>\n",
              "    </tr>\n",
              "  </tbody>\n",
              "</table>\n",
              "</div>"
            ],
            "text/plain": [
              "                 names ratings  season  year\n",
              "0              Slayers     4.1  spring  1995\n",
              "1      Tenchi Universe       4  spring  1995\n",
              "2                   H2     3.7  spring  1995\n",
              "3     Jurassic Tripper     3.6  spring  1995\n",
              "4  Street Fighter II V     3.4  spring  1995"
            ]
          },
          "metadata": {
            "tags": []
          },
          "execution_count": 15
        }
      ]
    },
    {
      "cell_type": "code",
      "metadata": {
        "id": "2r-8lhpSYTCC",
        "colab_type": "code",
        "colab": {}
      },
      "source": [
        "season_df.to_csv(\"data_seasons.csv\", sep=\"\\t\", index=False)"
      ],
      "execution_count": null,
      "outputs": []
    }
  ]
}